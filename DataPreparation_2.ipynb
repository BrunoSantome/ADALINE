{
  "nbformat": 4,
  "nbformat_minor": 0,
  "metadata": {
    "colab": {
      "provenance": [],
      "collapsed_sections": []
    },
    "kernelspec": {
      "name": "python3",
      "display_name": "Python 3"
    },
    "language_info": {
      "name": "python"
    }
  },
  "cells": [
    {
      "cell_type": "code",
      "execution_count": 1,
      "metadata": {
        "id": "LrSp1B7bRWLx"
      },
      "outputs": [],
      "source": [
        "import numpy as np\n",
        "import pandas as pd\n",
        "import seaborn as sns\n",
        "\n"
      ]
    },
    {
      "cell_type": "code",
      "source": [
        "from sklearn.model_selection import train_test_split\n"
      ],
      "metadata": {
        "id": "g-1UzbxPJd51"
      },
      "execution_count": 2,
      "outputs": []
    },
    {
      "cell_type": "code",
      "source": [
        "from google.colab import drive\n",
        "drive.mount('/content/drive')"
      ],
      "metadata": {
        "colab": {
          "base_uri": "https://localhost:8080/"
        },
        "id": "rmjrNl68R7My",
        "outputId": "2bd30358-1149-4ab7-a38f-5b32764a4d18"
      },
      "execution_count": 3,
      "outputs": [
        {
          "output_type": "stream",
          "name": "stdout",
          "text": [
            "Mounted at /content/drive\n"
          ]
        }
      ]
    },
    {
      "cell_type": "code",
      "source": [
        "df = pd.read_csv('/content/drive/MyDrive/Datos/compactiv.csv', delimiter=',')\n",
        "\n",
        "list_of_column_names = list(df.columns)\n",
        "print('List of column names : ',\n",
        "      list_of_column_names)"
      ],
      "metadata": {
        "colab": {
          "base_uri": "https://localhost:8080/"
        },
        "id": "21zmz_rVTXt7",
        "outputId": "ed46163a-2fd6-4c98-9ebe-d7f86c9bbe5a"
      },
      "execution_count": 4,
      "outputs": [
        {
          "output_type": "stream",
          "name": "stdout",
          "text": [
            "List of column names :  ['lread', ' lwrite', ' scall', ' sread', ' swrite', ' fork', ' exec', ' rchar', ' wchar', ' pgout', ' ppgout', ' pgfree', ' pgscan', ' atch', ' pgin', ' ppgin', ' pflt', ' vflt', ' runqsz', ' freemem', ' freeswap', 'usr']\n"
          ]
        }
      ]
    },
    {
      "cell_type": "markdown",
      "source": [
        "Despues de pillar los datos, los Normalizamos"
      ],
      "metadata": {
        "id": "YPc2BC-sWEH9"
      }
    },
    {
      "cell_type": "code",
      "source": [
        "def minmax_norm(df_input):\n",
        "    return (df - df.min()) / ( df.max() - df.min())\n",
        "  \n",
        "df_minmax_norm = minmax_norm(df)\n",
        "print(df_minmax_norm)"
      ],
      "metadata": {
        "id": "mA4NGHpkBPa8"
      },
      "execution_count": null,
      "outputs": []
    },
    {
      "cell_type": "markdown",
      "source": [
        "Y luego los aleatorizamos\n"
      ],
      "metadata": {
        "id": "0DruqwYxWLhI"
      }
    },
    {
      "cell_type": "code",
      "source": [
        "shuffled = df_minmax_norm.sample(frac=1)\n"
      ],
      "metadata": {
        "id": "RdcndzWjDLuL"
      },
      "execution_count": 6,
      "outputs": []
    },
    {
      "cell_type": "code",
      "source": [
        "print(shuffled.shape)"
      ],
      "metadata": {
        "colab": {
          "base_uri": "https://localhost:8080/"
        },
        "id": "jtnkLIKUgGpe",
        "outputId": "4a099e82-fbaf-40cd-85c6-0eec1663118c"
      },
      "execution_count": 65,
      "outputs": [
        {
          "output_type": "stream",
          "name": "stdout",
          "text": [
            "(8192, 22)\n"
          ]
        }
      ]
    },
    {
      "cell_type": "markdown",
      "source": [
        "\n",
        "\n",
        "Aqui Vamos a separar el conjunto de datos en 7 partes: 6 x 15% + 1 x 10%.\n",
        "Les asignamos un nombre a cada conjunto. \n",
        "\n",
        "\n",
        "\n"
      ],
      "metadata": {
        "id": "O4_FPcctWARj"
      }
    },
    {
      "cell_type": "code",
      "source": [
        "X = shuffled\n",
        "y = shuffled.usr\n",
        "\n",
        "X_train, X_test, y_train, y_test = train_test_split(X, y,test_size=0.15)\n",
        "Test_1 = X_test\n",
        "X_train, X_test2, y_train, y_test2 = train_test_split(X_train, y_train,test_size=0.1765)\n",
        "Test_2 = X_test2\n",
        "X_train, X_test3, y_train, y_test3 = train_test_split(X_train, y_train,test_size=0.2143)\n",
        "Test_3 = X_test3\n",
        "X_train, X_test4, y_train, y_test4 = train_test_split(X_train, y_train,test_size=0.2728)\n",
        "Test_4 = X_test4\n",
        "X_train, X_test5, y_train, y_test5 = train_test_split(X_train, y_train,test_size=0.3751)\n",
        "Test_5 = X_test5\n",
        "X_train, X_test6, y_train, y_test6 = train_test_split(X_train, y_train,test_size=0.6003)\n",
        "Test_6 = X_test6\n",
        "Test_7 = X_train #EL ULTIMO MODELO NO ES IGUAL AL RESTO DE DATOS, EL 10% QUE QUEDA. Hay que hacer otro modelo con 10 20 y 70\n",
        "print(\"\\nX_train:\\n\")\n",
        "print(Test_1.shape)\n",
        "print(Test_2.shape)\n",
        "print(Test_3.shape)\n",
        "print(Test_4.shape)\n",
        "print(Test_5.shape)\n",
        "print(Test_6.shape)\n",
        "print(Test_7.shape)\n",
        "\n"
      ],
      "metadata": {
        "id": "Fe789FSbRRg4",
        "colab": {
          "base_uri": "https://localhost:8080/"
        },
        "outputId": "03233461-24bd-43c3-a932-75fe64f29810"
      },
      "execution_count": 7,
      "outputs": [
        {
          "output_type": "stream",
          "name": "stdout",
          "text": [
            "\n",
            "X_train:\n",
            "\n",
            "(1229, 22)\n",
            "(1229, 22)\n",
            "(1229, 22)\n",
            "(1229, 22)\n",
            "(1229, 22)\n",
            "(1229, 22)\n",
            "(818, 22)\n"
          ]
        }
      ]
    },
    {
      "cell_type": "markdown",
      "source": [
        "Vamos a eliminar el primer conjunto de datos de test de todo el conjunto y vamosa sacar el training y validation. \n",
        "Este proceso se repite 6 veces. "
      ],
      "metadata": {
        "id": "FLki6RXkSeUE"
      }
    },
    {
      "cell_type": "code",
      "source": [
        "X = shuffled\n",
        "\n",
        "df = X.merge(Test_6, indicator = True, how = 'outer')\n",
        "Data1 = df.loc[lambda x : x['_merge'] != 'both']\n",
        "Data1 = Data1.drop('_merge', axis=1)\n",
        "y = Data1.usr\n",
        "\n",
        "\n",
        "X_train, X_val, y_train, y_val = train_test_split(Data1, y,test_size=0.1765)\n",
        "Train_1 = X_train\n",
        "Valid_1 = X_val\n",
        "\n",
        "Training_IN = Train_1.drop('usr',axis=1)\n",
        "Training_OUT = Train_1[\"usr\"]\n",
        "\n",
        "Testing_IN = Test_6.drop('usr',axis=1)\n",
        "Testing_OUT = Test_6[\"usr\"]\n",
        "\n",
        "Validation_IN = Valid_1.drop('usr',axis=1)\n",
        "Validation_OUT = Valid_1[\"usr\"]\n",
        "\n",
        "\n",
        "\n"
      ],
      "metadata": {
        "id": "hyVKNfYjLClD"
      },
      "execution_count": 58,
      "outputs": []
    },
    {
      "cell_type": "code",
      "source": [
        "#El modelo 7 es ESPECIAL por que hacemos una división de datos distinta: 10 - 20 - 70\n",
        "X = shuffled\n",
        "\n",
        "df = X.merge(Test_7, indicator = True, how = 'outer')\n",
        "Data1 = df.loc[lambda x : x['_merge'] != 'both']\n",
        "Data1 = Data1.drop('_merge', axis=1)\n",
        "y = Data1.usr\n",
        "\n",
        "#El valor del tamaño del test_size varía, queremos un 20% del 100% de los datos que no incluyan nada del 10% de test\n",
        "\n",
        "X_train, X_val, y_train, y_val = train_test_split(Data1, y,test_size=0.2221)\n",
        "Train_1 = X_train\n",
        "Valid_1 = X_val\n",
        "\n",
        "#dan las proporciones deseadas. \n",
        "print(X_train.shape)\n",
        "print(X_val.shape)\n",
        "\n",
        "Training_IN = Train_1.drop('usr',axis=1)\n",
        "Training_OUT = Train_1[\"usr\"]\n",
        "\n",
        "Testing_IN = Test_7.drop('usr',axis=1)\n",
        "Testing_OUT = Test_7[\"usr\"]\n",
        "\n",
        "Validation_IN = Valid_1.drop('usr',axis=1)\n",
        "Validation_OUT = Valid_1[\"usr\"]\n"
      ],
      "metadata": {
        "colab": {
          "base_uri": "https://localhost:8080/"
        },
        "id": "4lBtJPMJfqbZ",
        "outputId": "856b3023-f8f1-4375-da7f-424cf2446cc5"
      },
      "execution_count": 68,
      "outputs": [
        {
          "output_type": "stream",
          "name": "stdout",
          "text": [
            "(5736, 22)\n",
            "(1638, 22)\n"
          ]
        }
      ]
    },
    {
      "cell_type": "code",
      "source": [
        "path1 = '/content/drive/MyDrive/AnalisisDatos/Modelos/Modelo7/Training/Training_IN.csv'\n",
        "with open(path1, 'w', encoding = 'utf-8-sig') as f:\n",
        "  Training_IN.to_csv(f)\n"
      ],
      "metadata": {
        "id": "vj7COMnhdpvR"
      },
      "execution_count": 69,
      "outputs": []
    },
    {
      "cell_type": "code",
      "source": [
        "path1 = '/content/drive/MyDrive/AnalisisDatos/Modelos/Modelo7/Training/Training_OUT.csv'\n",
        "with open(path1, 'w', encoding = 'utf-8-sig') as f:\n",
        "  Training_OUT.to_csv(f)\n",
        "\n",
        "\n"
      ],
      "metadata": {
        "id": "-WKjM6EAaGaL"
      },
      "execution_count": 70,
      "outputs": []
    },
    {
      "cell_type": "code",
      "source": [
        "path2 = '/content/drive/MyDrive/AnalisisDatos/Modelos/Modelo7/Testing/Testing_IN.csv'\n",
        "with open(path2, 'w', encoding = 'utf-8-sig') as f:\n",
        "  Testing_IN.to_csv(f)\n"
      ],
      "metadata": {
        "id": "2S-lPTgBdu56"
      },
      "execution_count": 71,
      "outputs": []
    },
    {
      "cell_type": "code",
      "source": [
        "path2 = '/content/drive/MyDrive/AnalisisDatos/Modelos/Modelo7/Testing/Testing_OUT.csv'\n",
        "with open(path2, 'w', encoding = 'utf-8-sig') as f:\n",
        "  Testing_OUT.to_csv(f)\n",
        "\n"
      ],
      "metadata": {
        "id": "m5eqmfllaqhS"
      },
      "execution_count": 72,
      "outputs": []
    },
    {
      "cell_type": "code",
      "source": [
        "path3 = '/content/drive/MyDrive/AnalisisDatos/Modelos/Modelo7/Validation/Validation_IN.csv'\n",
        "with open(path3, 'w', encoding = 'utf-8-sig') as f:\n",
        "  Validation_IN.to_csv(f)"
      ],
      "metadata": {
        "id": "1URMSGijdyng"
      },
      "execution_count": 73,
      "outputs": []
    },
    {
      "cell_type": "code",
      "source": [
        "path3 = '/content/drive/MyDrive/AnalisisDatos/Modelos/Modelo7/Validation/Validation_OUT.csv'\n",
        "with open(path3, 'w', encoding = 'utf-8-sig') as f:\n",
        "  Validation_OUT.to_csv(f)"
      ],
      "metadata": {
        "id": "gEK8t3IdbHIB"
      },
      "execution_count": 74,
      "outputs": []
    }
  ]
}